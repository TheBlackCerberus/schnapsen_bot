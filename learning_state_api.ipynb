{
 "cells": [
  {
   "cell_type": "code",
   "execution_count": 1,
   "metadata": {
    "collapsed": true
   },
   "outputs": [
    {
     "name": "stdout",
     "output_type": "stream",
     "text": [
      "The game is in phase: 1\n",
      "Player 1's points: 0, pending: 0\n",
      "Player 2's points: 0, pending: 0\n",
      "The trump suit is: H\n",
      "Player 1's hand: KD AH KH QH JH\n",
      "Player 2's hand: KC QC JC QD QS\n",
      "There are 10 cards in the stock\n",
      "\n"
     ]
    }
   ],
   "source": [
    "from api import State, Deck, util\n",
    "\n",
    "\n",
    "state = State.generate(1)\n",
    "deck = Deck.generate()\n",
    "\n",
    "print(state)"
   ]
  },
  {
   "cell_type": "markdown",
   "metadata": {
    "collapsed": false,
    "pycharm": {
     "name": "#%% md\n"
    }
   },
   "source": [
    "|          | Aces | 10s | Kings | Queens | Jacks |\n",
    "|:--------:|:----:|:---:|:-----:|:------:|:-----:|\n",
    "| **Clubs**|   0  |  1  |   2   |    3   |   4   |\n",
    "|**Diamonds**|   5|  6  |   7   |    8   |   9   |\n",
    "|**Hearts**|  10  |  11 |   12  |   13   |   14  |\n",
    "|**Spades**|  15  |  16 |   17  |   18   |   19  |"
   ]
  },
  {
   "cell_type": "code",
   "execution_count": 2,
   "metadata": {
    "collapsed": false,
    "pycharm": {
     "name": "#%%\n"
    }
   },
   "outputs": [
    {
     "name": "stdout",
     "output_type": "stream",
     "text": [
      "{\"deck\": {\"card_state\": [\"S\", \"S\", \"P2H\", \"P2H\", \"P2H\", \"S\", \"S\", \"P1H\", \"P2H\", \"S\", \"P1H\", \"S\", \"P1H\", \"P1H\", \"P1H\", \"S\", \"S\", \"S\", \"P2H\", \"S\"], \"p1_perspective\": [\"U\", \"U\", \"U\", \"U\", \"U\", \"U\", \"U\", \"P1H\", \"U\", \"U\", \"P1H\", \"S\", \"P1H\", \"P1H\", \"P1H\", \"U\", \"U\", \"U\", \"U\", \"U\"], \"p2_perspective\": [\"U\", \"U\", \"P2H\", \"P2H\", \"P2H\", \"U\", \"U\", \"U\", \"P2H\", \"U\", \"U\", \"S\", \"U\", \"U\", \"U\", \"U\", \"U\", \"U\", \"P2H\", \"U\"], \"trick\": [null, null], \"previous_trick\": [null, null], \"stock\": [11, 5, 17, 19, 9, 0, 16, 1, 15, 6], \"trump_suit\": \"H\", \"signature\": null}, \"moves\": [[7, null], [10, null], [12, null], [13, null], [14, null], [null, 14], [12, 13], [13, 12]], \"finished\": false, \"phase\": 1, \"leads_turn\": true, \"player1s_turn\": true, \"p1_points\": 0, \"p2_points\": 0, \"p1_pending_points\": 0, \"p2_pending_points\": 0, \"signature\": null, \"revoked\": null}\n"
     ]
    }
   ],
   "source": [
    "print(state.convert_to_json())"
   ]
  },
  {
   "cell_type": "code",
   "execution_count": 3,
   "metadata": {
    "collapsed": false,
    "pycharm": {
     "name": "#%%\n"
    }
   },
   "outputs": [
    {
     "name": "stdout",
     "output_type": "stream",
     "text": [
      "[(7, None), (10, None), (12, None), (13, None), (14, None), (None, 14), (12, 13), (13, 12)]\n"
     ]
    }
   ],
   "source": [
    "# return all posible moves\n",
    "\"\"\"\n",
    "\t\t:return: A list of all the legal moves that can be made by the player whose turn it is.\n",
    "\t\t\tA move is a tuple of length 2. There are 3 distinct cases:\n",
    "\t\t\t\t- (int, None): first element indicates the index of the card that is placed down.\n",
    "\t\t\t\t- (int, int) : first element as above, second element completes a marriage\n",
    "\t\t\t\t- (None, int): First element being None indicates a trump jack exchange,\n",
    "\t\t\t\t\tsecond element is the index of that trump jack\n",
    "\t\t\"\"\"\n",
    "moves = state.moves()\n",
    "print(moves)"
   ]
  },
  {
   "cell_type": "code",
   "execution_count": 4,
   "metadata": {
    "collapsed": false,
    "pycharm": {
     "name": "#%%\n"
    }
   },
   "outputs": [
    {
     "name": "stdout",
     "output_type": "stream",
     "text": [
      "1\n"
     ]
    }
   ],
   "source": [
    "print(state.whose_turn())"
   ]
  },
  {
   "cell_type": "code",
   "execution_count": 5,
   "metadata": {
    "collapsed": false,
    "pycharm": {
     "name": "#%%\n"
    }
   },
   "outputs": [
    {
     "name": "stdout",
     "output_type": "stream",
     "text": [
      "[1, 4, 5, 6, 19]\n"
     ]
    }
   ],
   "source": [
    "print(deck.get_player_hand(2))"
   ]
  },
  {
   "cell_type": "code",
   "execution_count": 6,
   "metadata": {
    "collapsed": false,
    "pycharm": {
     "name": "#%%\n"
    }
   },
   "outputs": [
    {
     "name": "stdout",
     "output_type": "stream",
     "text": [
      "[7, 10, 12, 13, 14]\n"
     ]
    }
   ],
   "source": [
    "print(state.hand())"
   ]
  },
  {
   "cell_type": "code",
   "execution_count": 7,
   "metadata": {
    "collapsed": false,
    "pycharm": {
     "name": "#%%\n"
    }
   },
   "outputs": [
    {
     "name": "stdout",
     "output_type": "stream",
     "text": [
      "['S', 'P2H', 'P1H', 'S', 'P2H', 'P2H', 'P2H', 'P1H', 'S', 'S', 'S', 'S', 'S', 'P1H', 'P1H', 'S', 'S', 'P1H', 'S', 'P2H']\n"
     ]
    }
   ],
   "source": [
    "print(deck.get_card_states())"
   ]
  },
  {
   "cell_type": "code",
   "execution_count": 8,
   "metadata": {
    "collapsed": false,
    "pycharm": {
     "name": "#%%\n"
    }
   },
   "outputs": [
    {
     "name": "stdout",
     "output_type": "stream",
     "text": [
      "card1:('K', 'D') card2:('Q', 'D')\n"
     ]
    }
   ],
   "source": [
    "print(f\"card1:{util.get_card_name(7)} card2:{util.get_card_name(8)}\")"
   ]
  },
  {
   "cell_type": "code",
   "execution_count": 9,
   "metadata": {
    "collapsed": false,
    "pycharm": {
     "name": "#%%\n"
    }
   },
   "outputs": [
    {
     "name": "stdout",
     "output_type": "stream",
     "text": [
      "[]\n"
     ]
    }
   ],
   "source": [
    "print(deck.get_possible_mariages(1))"
   ]
  },
  {
   "cell_type": "code",
   "execution_count": 10,
   "metadata": {
    "collapsed": false,
    "pycharm": {
     "name": "#%%\n"
    }
   },
   "outputs": [
    {
     "name": "stdout",
     "output_type": "stream",
     "text": [
      "10\n"
     ]
    }
   ],
   "source": [
    "print(deck.get_trump_card_index())"
   ]
  },
  {
   "cell_type": "code",
   "execution_count": 11,
   "metadata": {
    "collapsed": false,
    "pycharm": {
     "name": "#%%\n"
    }
   },
   "outputs": [
    {
     "name": "stdout",
     "output_type": "stream",
     "text": [
      "1\n"
     ]
    }
   ],
   "source": [
    "print(state.leader())"
   ]
  },
  {
   "cell_type": "code",
   "execution_count": 12,
   "metadata": {
    "collapsed": false,
    "pycharm": {
     "name": "#%%\n"
    }
   },
   "outputs": [
    {
     "name": "stdout",
     "output_type": "stream",
     "text": [
      "H\n"
     ]
    }
   ],
   "source": [
    "print(state.get_trump_suit())"
   ]
  },
  {
   "cell_type": "code",
   "execution_count": 13,
   "metadata": {
    "collapsed": false,
    "pycharm": {
     "name": "#%%\n"
    }
   },
   "outputs": [
    {
     "name": "stdout",
     "output_type": "stream",
     "text": [
      "('A', 'H')\n"
     ]
    }
   ],
   "source": [
    "get_name_of_trump_card = util.get_card_name(deck.get_trump_card_index())\n",
    "print(get_name_of_trump_card)"
   ]
  },
  {
   "cell_type": "code",
   "execution_count": 14,
   "metadata": {
    "collapsed": false,
    "pycharm": {
     "name": "#%%\n"
    }
   },
   "outputs": [
    {
     "name": "stdout",
     "output_type": "stream",
     "text": [
      "Card 0 in the hand is K of D\n",
      "Card 1 in the hand is A of H\n",
      "Card 2 in the hand is K of H\n",
      "Card 3 in the hand is Q of H\n",
      "Card 4 in the hand is J of H\n"
     ]
    }
   ],
   "source": [
    "cards_hand = state.hand()\n",
    "\n",
    "for i, card in enumerate(cards_hand):\n",
    "\n",
    "    rank, suit = util.get_card_name(card)\n",
    "\n",
    "    print('Card {} in the hand is {} of {}'.format(i, rank,suit))"
   ]
  },
  {
   "cell_type": "code",
   "execution_count": 15,
   "metadata": {
    "collapsed": false,
    "pycharm": {
     "name": "#%%\n"
    }
   },
   "outputs": [
    {
     "name": "stdout",
     "output_type": "stream",
     "text": [
      "None\n"
     ]
    }
   ],
   "source": [
    "print(state.get_opponents_played_card())"
   ]
  },
  {
   "cell_type": "code",
   "execution_count": 16,
   "metadata": {
    "collapsed": false,
    "pycharm": {
     "name": "#%%\n"
    }
   },
   "outputs": [
    {
     "name": "stdout",
     "output_type": "stream",
     "text": [
      "[(10, None), (12, None), (13, None), (14, None), (12, 13), (13, 12)]\n"
     ]
    }
   ],
   "source": [
    "print(state.get_trump_moves())"
   ]
  },
  {
   "cell_type": "markdown",
   "metadata": {
    "collapsed": false
   },
   "source": []
  },
  {
   "cell_type": "code",
   "execution_count": 17,
   "metadata": {
    "collapsed": false,
    "pycharm": {
     "name": "#%%\n"
    }
   },
   "outputs": [
    {
     "name": "stdout",
     "output_type": "stream",
     "text": [
      "False\n",
      "True\n",
      "True\n",
      "True\n",
      "True\n",
      "False\n",
      "True\n",
      "True\n"
     ]
    }
   ],
   "source": [
    "for move in moves:\n",
    "    print(state.is_trump_move(move))"
   ]
  }
 ],
 "metadata": {
  "kernelspec": {
   "display_name": "Python 3",
   "language": "python",
   "name": "python3"
  },
  "language_info": {
   "codemirror_mode": {
    "name": "ipython",
    "version": 3
   },
   "file_extension": ".py",
   "mimetype": "text/x-python",
   "name": "python",
   "nbconvert_exporter": "python",
   "pygments_lexer": "ipython3",
   "version": "3.9.10"
  }
 },
 "nbformat": 4,
 "nbformat_minor": 0
}
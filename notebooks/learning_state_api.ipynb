{
 "cells": [
  {
   "cell_type": "code",
   "execution_count": 1,
   "metadata": {
    "collapsed": true
   },
   "outputs": [
    {
     "name": "stdout",
     "output_type": "stream",
     "text": [
      "The game is in phase: 1\n",
      "Player 1's points: 0, pending: 0\n",
      "Player 2's points: 0, pending: 0\n",
      "The trump suit is: D\n",
      "Player 1's hand: JD AH QH JH JS\n",
      "Player 2's hand: JC KD 10H KS QS\n",
      "There are 10 cards in the stock\n",
      "\n"
     ]
    }
   ],
   "source": [
    "from api import State, Deck, util\n",
    "\n",
    "\n",
    "state = State.generate(3)\n",
    "deck = Deck.generate()\n",
    "\n",
    "print(state)"
   ]
  },
  {
   "cell_type": "markdown",
   "metadata": {
    "collapsed": false,
    "pycharm": {
     "name": "#%% md\n"
    }
   },
   "source": [
    "|          | Aces | 10s | Kings | Queens | Jacks |\n",
    "|:--------:|:----:|:---:|:-----:|:------:|:-----:|\n",
    "| **Clubs**|   0  |  1  |   2   |    3   |   4   |\n",
    "|**Diamonds**|   5|  6  |   7   |    8   |   9   |\n",
    "|**Hearts**|  10  |  11 |   12  |   13   |   14  |\n",
    "|**Spades**|  15  |  16 |   17  |   18   |   19  |"
   ]
  },
  {
   "cell_type": "code",
   "execution_count": 2,
   "metadata": {
    "collapsed": false,
    "pycharm": {
     "name": "#%%\n"
    }
   },
   "outputs": [
    {
     "name": "stdout",
     "output_type": "stream",
     "text": [
      "{\"deck\": {\"card_state\": [\"S\", \"S\", \"S\", \"S\", \"P2H\", \"S\", \"S\", \"P2H\", \"S\", \"P1H\", \"P1H\", \"P2H\", \"S\", \"P1H\", \"P1H\", \"S\", \"S\", \"P2H\", \"P2H\", \"P1H\"], \"p1_perspective\": [\"U\", \"U\", \"U\", \"U\", \"U\", \"U\", \"U\", \"U\", \"S\", \"P1H\", \"P1H\", \"U\", \"U\", \"P1H\", \"P1H\", \"U\", \"U\", \"U\", \"U\", \"P1H\"], \"p2_perspective\": [\"U\", \"U\", \"U\", \"U\", \"P2H\", \"U\", \"U\", \"P2H\", \"S\", \"U\", \"U\", \"P2H\", \"U\", \"U\", \"U\", \"U\", \"U\", \"P2H\", \"P2H\", \"U\"], \"trick\": [null, null], \"previous_trick\": [null, null], \"stock\": [8, 3, 6, 5, 15, 16, 2, 12, 0, 1], \"trump_suit\": \"D\", \"signature\": null}, \"moves\": [[9, null], [10, null], [13, null], [14, null], [19, null], [null, 9]], \"finished\": false, \"phase\": 1, \"leads_turn\": true, \"player1s_turn\": true, \"p1_points\": 0, \"p2_points\": 0, \"p1_pending_points\": 0, \"p2_pending_points\": 0, \"signature\": null, \"revoked\": null}\n"
     ]
    }
   ],
   "source": [
    "print(state.convert_to_json())"
   ]
  },
  {
   "cell_type": "code",
   "execution_count": 3,
   "metadata": {
    "collapsed": false,
    "pycharm": {
     "name": "#%%\n"
    }
   },
   "outputs": [
    {
     "name": "stdout",
     "output_type": "stream",
     "text": [
      "(9, None)\n",
      "(10, None)\n",
      "(13, None)\n",
      "(14, None)\n",
      "(19, None)\n",
      "(None, 9)\n"
     ]
    }
   ],
   "source": [
    "# return all posible moves\n",
    "\"\"\"\n",
    "\t\t:return: A list of all the legal moves that can be made by the player whose turn it is.\n",
    "\t\t\tA move is a tuple of length 2. There are 3 distinct cases:\n",
    "\t\t\t\t- (int, None): first element indicates the index of the card that is placed down.\n",
    "\t\t\t\t- (int, int) : first element as above, second element completes a marriage\n",
    "\t\t\t\t- (None, int): First element being None indicates a trump jack exchange,\n",
    "\t\t\t\t\tsecond element is the index of that trump jack\n",
    "\t\t\"\"\"\n",
    "moves = state.moves()\n",
    "for move in moves:\n",
    "    print(move)"
   ]
  },
  {
   "cell_type": "code",
   "execution_count": 4,
   "metadata": {
    "collapsed": false,
    "pycharm": {
     "name": "#%%\n"
    }
   },
   "outputs": [
    {
     "name": "stdout",
     "output_type": "stream",
     "text": [
      "1\n"
     ]
    }
   ],
   "source": [
    "print(state.whose_turn())"
   ]
  },
  {
   "cell_type": "code",
   "execution_count": 5,
   "metadata": {
    "collapsed": false,
    "pycharm": {
     "name": "#%%\n"
    }
   },
   "outputs": [
    {
     "name": "stdout",
     "output_type": "stream",
     "text": [
      "[8, 9, 11, 14, 16]\n"
     ]
    }
   ],
   "source": [
    "print(deck.get_player_hand(1))"
   ]
  },
  {
   "cell_type": "code",
   "execution_count": 6,
   "metadata": {
    "collapsed": false,
    "pycharm": {
     "name": "#%%\n"
    }
   },
   "outputs": [
    {
     "name": "stdout",
     "output_type": "stream",
     "text": [
      "[9, 10, 13, 14, 19]\n"
     ]
    }
   ],
   "source": [
    "print(state.hand())"
   ]
  },
  {
   "cell_type": "code",
   "execution_count": 7,
   "metadata": {
    "collapsed": false,
    "pycharm": {
     "name": "#%%\n"
    }
   },
   "outputs": [
    {
     "name": "stdout",
     "output_type": "stream",
     "text": [
      "['S', 'S', 'S', 'P2H', 'P2H', 'S', 'S', 'S', 'P1H', 'P1H', 'S', 'P1H', 'S', 'S', 'P1H', 'P2H', 'P1H', 'S', 'P2H', 'P2H']\n"
     ]
    }
   ],
   "source": [
    "print(deck.get_card_states())"
   ]
  },
  {
   "cell_type": "code",
   "execution_count": 8,
   "metadata": {
    "collapsed": false,
    "pycharm": {
     "name": "#%%\n"
    }
   },
   "outputs": [
    {
     "name": "stdout",
     "output_type": "stream",
     "text": [
      "card1:('K', 'D') card2:('Q', 'D')\n"
     ]
    }
   ],
   "source": [
    "print(f\"card1:{util.get_card_name(7)} card2:{util.get_card_name(8)}\")"
   ]
  },
  {
   "cell_type": "code",
   "execution_count": 9,
   "metadata": {
    "collapsed": false,
    "pycharm": {
     "name": "#%%\n"
    }
   },
   "outputs": [
    {
     "name": "stdout",
     "output_type": "stream",
     "text": [
      "[]\n"
     ]
    }
   ],
   "source": [
    "print(deck.get_possible_mariages(1))"
   ]
  },
  {
   "cell_type": "code",
   "execution_count": 10,
   "metadata": {
    "collapsed": false,
    "pycharm": {
     "name": "#%%\n"
    }
   },
   "outputs": [
    {
     "name": "stdout",
     "output_type": "stream",
     "text": [
      "2\n"
     ]
    }
   ],
   "source": [
    "print(deck.get_trump_card_index())"
   ]
  },
  {
   "cell_type": "code",
   "execution_count": 11,
   "metadata": {
    "collapsed": false,
    "pycharm": {
     "name": "#%%\n"
    }
   },
   "outputs": [
    {
     "name": "stdout",
     "output_type": "stream",
     "text": [
      "1\n"
     ]
    }
   ],
   "source": [
    "print(state.leader())"
   ]
  },
  {
   "cell_type": "code",
   "execution_count": 12,
   "metadata": {
    "collapsed": false,
    "pycharm": {
     "name": "#%%\n"
    }
   },
   "outputs": [
    {
     "name": "stdout",
     "output_type": "stream",
     "text": [
      "D\n"
     ]
    }
   ],
   "source": [
    "print(state.get_trump_suit())"
   ]
  },
  {
   "cell_type": "code",
   "execution_count": 13,
   "metadata": {
    "collapsed": false,
    "pycharm": {
     "name": "#%%\n"
    }
   },
   "outputs": [
    {
     "name": "stdout",
     "output_type": "stream",
     "text": [
      "('K', 'C')\n"
     ]
    }
   ],
   "source": [
    "get_name_of_trump_card = util.get_card_name(deck.get_trump_card_index())\n",
    "print(get_name_of_trump_card)"
   ]
  },
  {
   "cell_type": "code",
   "execution_count": 14,
   "metadata": {
    "collapsed": false,
    "pycharm": {
     "name": "#%%\n"
    }
   },
   "outputs": [
    {
     "name": "stdout",
     "output_type": "stream",
     "text": [
      "Card 0 in the hand is J of D\n",
      "Card 1 in the hand is A of H\n",
      "Card 2 in the hand is Q of H\n",
      "Card 3 in the hand is J of H\n",
      "Card 4 in the hand is J of S\n"
     ]
    }
   ],
   "source": [
    "cards_hand = state.hand()\n",
    "\n",
    "for i, card in enumerate(cards_hand):\n",
    "\n",
    "    rank, suit = util.get_card_name(card)\n",
    "\n",
    "    print('Card {} in the hand is {} of {}'.format(i, rank,suit))"
   ]
  },
  {
   "cell_type": "code",
   "execution_count": 15,
   "metadata": {
    "collapsed": false,
    "pycharm": {
     "name": "#%%\n"
    }
   },
   "outputs": [
    {
     "name": "stdout",
     "output_type": "stream",
     "text": [
      "None\n"
     ]
    }
   ],
   "source": [
    "print(state.get_opponents_played_card())"
   ]
  },
  {
   "cell_type": "code",
   "execution_count": 16,
   "metadata": {
    "collapsed": false,
    "pycharm": {
     "name": "#%%\n"
    }
   },
   "outputs": [
    {
     "name": "stdout",
     "output_type": "stream",
     "text": [
      "[(9, None)]\n"
     ]
    }
   ],
   "source": [
    "print(state.get_trump_moves())"
   ]
  },
  {
   "cell_type": "code",
   "execution_count": 16,
   "outputs": [],
   "source": [],
   "metadata": {
    "collapsed": false,
    "pycharm": {
     "name": "#%%\n"
    }
   }
  },
  {
   "cell_type": "markdown",
   "metadata": {
    "collapsed": false
   },
   "source": []
  },
  {
   "cell_type": "code",
   "execution_count": 17,
   "outputs": [
    {
     "name": "stdout",
     "output_type": "stream",
     "text": [
      "9\n",
      "True\n",
      "10\n",
      "False\n",
      "13\n",
      "False\n",
      "14\n",
      "False\n",
      "19\n",
      "False\n",
      "None\n",
      "False\n"
     ]
    }
   ],
   "source": [
    "for move in moves:\n",
    "    print(move[0])\n",
    "    print(state.is_trump_move(move))"
   ],
   "metadata": {
    "collapsed": false,
    "pycharm": {
     "name": "#%%\n"
    }
   }
  },
  {
   "cell_type": "code",
   "execution_count": 18,
   "outputs": [
    {
     "name": "stdout",
     "output_type": "stream",
     "text": [
      "[(10, None)]\n",
      "0\n"
     ]
    }
   ],
   "source": [
    "from api import Deck\n",
    "\n",
    "def high_value_moves(state, trump=\"all\"):\n",
    "    high_value_moves = []\n",
    "    moves = state.moves()\n",
    "    if trump == \"all\":\n",
    "        for move in moves:\n",
    "            if move[0] is not None and (move[0] % 5 == 0 or move[0] % 5 == 1):\n",
    "                high_value_moves.append(move)\n",
    "        return high_value_moves\n",
    "    elif trump == \"yes\":\n",
    "        for move in moves:\n",
    "            if move[0] is not None and (move[0] % 5 == 0 or move[0] % 5 == 1) and state.is_trump_move(move):\n",
    "                high_value_moves.append(move)\n",
    "        return high_value_moves\n",
    "    elif trump == \"no\":\n",
    "        for move in moves:\n",
    "            if move[0] is not None and (move[0] % 5 == 0 or move[0] % 5 == 1) and not state.is_trump_move(move):\n",
    "                high_value_moves.append(move)\n",
    "        return high_value_moves\n",
    "print(high_value_moves(state, trump=\"all\"))\n",
    "num_moves = len(state.high_value_moves(trump=\"all\"))\n",
    "# print(num_moves)\n",
    "# print(state.whose_turn())\n",
    "print(state.have_marriage())"
   ],
   "metadata": {
    "collapsed": false,
    "pycharm": {
     "name": "#%%\n"
    }
   }
  },
  {
   "cell_type": "code",
   "execution_count": 19,
   "metadata": {
    "collapsed": false,
    "pycharm": {
     "name": "#%%\n"
    }
   },
   "outputs": [
    {
     "name": "stdout",
     "output_type": "stream",
     "text": [
      "4\n"
     ]
    }
   ],
   "source": [
    "def low_value_moves(state, trump=\"all\"):\n",
    "    low_value_moves = []\n",
    "    moves = state.moves()\n",
    "    if trump == \"all\":\n",
    "        for move in moves:\n",
    "            if move[0] is not None and (move[0] % 5 != 0 and move[0] % 5 != 1):\n",
    "                low_value_moves.append(move)\n",
    "        return low_value_moves\n",
    "    elif trump == \"yes\":\n",
    "        for move in moves:\n",
    "            if move[0] is not None and (move[0] % 5 != 0 and move[0] % 5 != 1) and state.is_trump_move(move):\n",
    "                low_value_moves.append(move)\n",
    "        return low_value_moves\n",
    "    elif trump == \"no\":\n",
    "        for move in moves:\n",
    "            if move[0] is not None and (move[0] % 5 != 0 and move[0] % 5 != 1) and not state.is_trump_move(move):\n",
    "                low_value_moves.append(move)\n",
    "        return low_value_moves\n",
    "    #if we return here, we return an empty list, we have to handle that later!\n",
    "    return low_value_moves\n",
    "\n",
    "print(len(low_value_moves(state, trump=\"all\")))"
   ]
  },
  {
   "cell_type": "code",
   "execution_count": 20,
   "outputs": [
    {
     "name": "stdout",
     "output_type": "stream",
     "text": [
      "[(9, None), (13, None), (14, None), (19, None)]\n"
     ]
    }
   ],
   "source": [
    "print(state.low_value_moves(trump=\"all\"))"
   ],
   "metadata": {
    "collapsed": false,
    "pycharm": {
     "name": "#%%\n"
    }
   }
  },
  {
   "cell_type": "code",
   "execution_count": 21,
   "outputs": [
    {
     "name": "stdout",
     "output_type": "stream",
     "text": [
      "[(9, None)]\n"
     ]
    }
   ],
   "source": [
    "def low_value_moves(state, trump=\"all\"):\n",
    "    low_value_moves = []\n",
    "    for move in moves:\n",
    "        if trump == \"all\":\n",
    "            if move[0] is not None and (move[0] % 5 != 0 and move[0] % 5 != 1):\n",
    "                low_value_moves.append(move)\n",
    "            return low_value_moves\n",
    "        elif trump == \"yes\":\n",
    "            if move[0] is not None and (move[0] % 5 != 0 and move[0] % 5 != 1) and state.is_trump_move(move):\n",
    "                low_value_moves.append(move)\n",
    "            return low_value_moves\n",
    "        elif trump == \"no\":\n",
    "            if move[0] is not None and (move[0] % 5 != 0 and move[0] % 5 != 1) and not state.is_trump_move(move):\n",
    "                low_value_moves.append(move)\n",
    "            return low_value_moves\n",
    "    #if we return here, we return an empty list, we have to handle that later!\n",
    "\n",
    "\n",
    "print(low_value_moves(state, trump=\"all\"))"
   ],
   "metadata": {
    "collapsed": false,
    "pycharm": {
     "name": "#%%\n"
    }
   }
  }
 ],
 "metadata": {
  "kernelspec": {
   "display_name": "Python 3",
   "language": "python",
   "name": "python3"
  },
  "language_info": {
   "codemirror_mode": {
    "name": "ipython",
    "version": 3
   },
   "file_extension": ".py",
   "mimetype": "text/x-python",
   "name": "python",
   "nbconvert_exporter": "python",
   "pygments_lexer": "ipython3",
   "version": "3.9.10"
  }
 },
 "nbformat": 4,
 "nbformat_minor": 0
}
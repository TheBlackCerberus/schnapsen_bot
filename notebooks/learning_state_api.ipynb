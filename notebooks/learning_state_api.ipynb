{
 "cells": [
  {
   "cell_type": "code",
   "execution_count": 1276,
   "metadata": {
    "collapsed": true
   },
   "outputs": [
    {
     "name": "stdout",
     "output_type": "stream",
     "text": [
      "The game is in phase: 1\n",
      "Player 1's points: 0, pending: 0\n",
      "Player 2's points: 0, pending: 0\n",
      "The trump suit is: D\n",
      "Player 1's hand: QC JC AH KH QH\n",
      "Player 2's hand: 10C KD JH 10S QS\n",
      "There are 10 cards in the stock\n",
      "\n"
     ]
    }
   ],
   "source": [
    "from api import State, Deck, util\n",
    "\n",
    "\n",
    "state = State.generate(40)\n",
    "deck = Deck.generate()\n",
    "\n",
    "print(state)"
   ]
  },
  {
   "cell_type": "markdown",
   "metadata": {
    "collapsed": false,
    "pycharm": {
     "name": "#%% md\n"
    }
   },
   "source": [
    "|          | Aces | 10s | Kings | Queens | Jacks |\n",
    "|:--------:|:----:|:---:|:-----:|:------:|:-----:|\n",
    "| **Clubs**|   0  |  1  |   2   |    3   |   4   |\n",
    "|**Diamonds**|   5|  6  |   7   |    8   |   9   |\n",
    "|**Hearts**|  10  |  11 |   12  |   13   |   14  |\n",
    "|**Spades**|  15  |  16 |   17  |   18   |   19  |"
   ]
  },
  {
   "cell_type": "code",
   "execution_count": 1277,
   "metadata": {
    "collapsed": false,
    "pycharm": {
     "name": "#%%\n"
    }
   },
   "outputs": [
    {
     "name": "stdout",
     "output_type": "stream",
     "text": [
      "{\"deck\": {\"card_state\": [\"S\", \"P2H\", \"S\", \"P1H\", \"P1H\", \"S\", \"S\", \"P2H\", \"S\", \"S\", \"P1H\", \"S\", \"P1H\", \"P1H\", \"P2H\", \"S\", \"P2H\", \"S\", \"P2H\", \"S\"], \"p1_perspective\": [\"U\", \"U\", \"U\", \"P1H\", \"P1H\", \"U\", \"S\", \"U\", \"U\", \"U\", \"P1H\", \"U\", \"P1H\", \"P1H\", \"U\", \"U\", \"U\", \"U\", \"U\", \"U\"], \"p2_perspective\": [\"U\", \"P2H\", \"U\", \"U\", \"U\", \"U\", \"S\", \"P2H\", \"U\", \"U\", \"U\", \"U\", \"U\", \"U\", \"P2H\", \"U\", \"P2H\", \"U\", \"P2H\", \"U\"], \"trick\": [null, null], \"previous_trick\": [null, null], \"stock\": [6, 9, 15, 17, 0, 11, 8, 19, 5, 2], \"trump_suit\": \"D\", \"signature\": null}, \"moves\": [[1, null], [7, null], [14, null], [16, null], [18, null]], \"finished\": false, \"phase\": 1, \"leads_turn\": true, \"player1s_turn\": false, \"p1_points\": 0, \"p2_points\": 0, \"p1_pending_points\": 0, \"p2_pending_points\": 0, \"signature\": null, \"revoked\": null}\n"
     ]
    }
   ],
   "source": [
    "print(state.convert_to_json())"
   ]
  },
  {
   "cell_type": "code",
   "execution_count": 1278,
   "metadata": {
    "collapsed": false,
    "pycharm": {
     "name": "#%%\n"
    }
   },
   "outputs": [
    {
     "name": "stdout",
     "output_type": "stream",
     "text": [
      "(1, None)\n",
      "(7, None)\n",
      "(14, None)\n",
      "(16, None)\n",
      "(18, None)\n"
     ]
    }
   ],
   "source": [
    "# return all posible moves\n",
    "\"\"\"\n",
    "\t\t:return: A list of all the legal moves that can be made by the player whose turn it is.\n",
    "\t\t\tA move is a tuple of length 2. There are 3 distinct cases:\n",
    "\t\t\t\t- (int, None): first element indicates the index of the card that is placed down.\n",
    "\t\t\t\t- (int, int) : first element as above, second element completes a marriage\n",
    "\t\t\t\t- (None, int): First element being None indicates a trump jack exchange,\n",
    "\t\t\t\t\tsecond element is the index of that trump jack\n",
    "\t\t\"\"\"\n",
    "moves = state.moves()\n",
    "for move in moves:\n",
    "    print(move)"
   ]
  },
  {
   "cell_type": "code",
   "execution_count": 1279,
   "metadata": {
    "collapsed": false,
    "pycharm": {
     "name": "#%%\n"
    }
   },
   "outputs": [
    {
     "name": "stdout",
     "output_type": "stream",
     "text": [
      "2\n"
     ]
    }
   ],
   "source": [
    "print(state.whose_turn())"
   ]
  },
  {
   "cell_type": "code",
   "execution_count": 1280,
   "metadata": {
    "collapsed": false,
    "pycharm": {
     "name": "#%%\n"
    }
   },
   "outputs": [
    {
     "name": "stdout",
     "output_type": "stream",
     "text": [
      "[1, 2, 3, 10, 16]\n"
     ]
    }
   ],
   "source": [
    "print(deck.get_player_hand(1))"
   ]
  },
  {
   "cell_type": "code",
   "execution_count": 1281,
   "metadata": {
    "collapsed": false,
    "pycharm": {
     "name": "#%%\n"
    }
   },
   "outputs": [
    {
     "name": "stdout",
     "output_type": "stream",
     "text": [
      "[1, 7, 14, 16, 18]\n"
     ]
    }
   ],
   "source": [
    "print(state.hand())"
   ]
  },
  {
   "cell_type": "code",
   "execution_count": 1282,
   "metadata": {
    "collapsed": false,
    "pycharm": {
     "name": "#%%\n"
    }
   },
   "outputs": [
    {
     "name": "stdout",
     "output_type": "stream",
     "text": [
      "['P2H', 'P1H', 'P1H', 'P1H', 'S', 'S', 'S', 'P2H', 'S', 'S', 'P1H', 'S', 'S', 'S', 'P2H', 'S', 'P1H', 'P2H', 'S', 'P2H']\n"
     ]
    }
   ],
   "source": [
    "print(deck.get_card_states())"
   ]
  },
  {
   "cell_type": "code",
   "execution_count": 1283,
   "metadata": {
    "collapsed": false,
    "pycharm": {
     "name": "#%%\n"
    }
   },
   "outputs": [
    {
     "name": "stdout",
     "output_type": "stream",
     "text": [
      "card1:('K', 'D') card2:('Q', 'D')\n"
     ]
    }
   ],
   "source": [
    "print(f\"card1:{util.get_card_name(7)} card2:{util.get_card_name(8)}\")"
   ]
  },
  {
   "cell_type": "code",
   "execution_count": 1284,
   "metadata": {
    "collapsed": false,
    "pycharm": {
     "name": "#%%\n"
    }
   },
   "outputs": [
    {
     "name": "stdout",
     "output_type": "stream",
     "text": [
      "[(2, 3), (3, 2)]\n"
     ]
    }
   ],
   "source": [
    "print(deck.get_possible_mariages(1))"
   ]
  },
  {
   "cell_type": "code",
   "execution_count": 1285,
   "metadata": {
    "collapsed": false,
    "pycharm": {
     "name": "#%%\n"
    }
   },
   "outputs": [
    {
     "name": "stdout",
     "output_type": "stream",
     "text": [
      "5\n"
     ]
    }
   ],
   "source": [
    "print(deck.get_trump_card_index())"
   ]
  },
  {
   "cell_type": "code",
   "execution_count": 1286,
   "metadata": {
    "collapsed": false,
    "pycharm": {
     "name": "#%%\n"
    }
   },
   "outputs": [
    {
     "name": "stdout",
     "output_type": "stream",
     "text": [
      "2\n"
     ]
    }
   ],
   "source": [
    "print(state.leader())"
   ]
  },
  {
   "cell_type": "code",
   "execution_count": 1287,
   "metadata": {
    "collapsed": false,
    "pycharm": {
     "name": "#%%\n"
    }
   },
   "outputs": [
    {
     "name": "stdout",
     "output_type": "stream",
     "text": [
      "D\n"
     ]
    }
   ],
   "source": [
    "print(state.get_trump_suit())"
   ]
  },
  {
   "cell_type": "code",
   "execution_count": 1288,
   "metadata": {
    "collapsed": false,
    "pycharm": {
     "name": "#%%\n"
    }
   },
   "outputs": [
    {
     "name": "stdout",
     "output_type": "stream",
     "text": [
      "('A', 'D')\n"
     ]
    }
   ],
   "source": [
    "get_name_of_trump_card = util.get_card_name(deck.get_trump_card_index())\n",
    "print(get_name_of_trump_card)"
   ]
  },
  {
   "cell_type": "code",
   "execution_count": 1289,
   "metadata": {
    "collapsed": false,
    "pycharm": {
     "name": "#%%\n"
    }
   },
   "outputs": [
    {
     "name": "stdout",
     "output_type": "stream",
     "text": [
      "Card 0 in the hand is 10 of C\n",
      "Card 1 in the hand is K of D\n",
      "Card 2 in the hand is J of H\n",
      "Card 3 in the hand is 10 of S\n",
      "Card 4 in the hand is Q of S\n"
     ]
    }
   ],
   "source": [
    "cards_hand = state.hand()\n",
    "\n",
    "for i, card in enumerate(cards_hand):\n",
    "\n",
    "    rank, suit = util.get_card_name(card)\n",
    "\n",
    "    print('Card {} in the hand is {} of {}'.format(i, rank,suit))"
   ]
  },
  {
   "cell_type": "code",
   "execution_count": 1290,
   "metadata": {
    "collapsed": false,
    "pycharm": {
     "name": "#%%\n"
    }
   },
   "outputs": [
    {
     "name": "stdout",
     "output_type": "stream",
     "text": [
      "None\n"
     ]
    }
   ],
   "source": [
    "print(state.get_opponents_played_card())"
   ]
  },
  {
   "cell_type": "code",
   "execution_count": 1291,
   "metadata": {
    "collapsed": false,
    "pycharm": {
     "name": "#%%\n"
    }
   },
   "outputs": [
    {
     "name": "stdout",
     "output_type": "stream",
     "text": [
      "[(7, None)]\n"
     ]
    }
   ],
   "source": [
    "print(state.get_trump_moves())"
   ]
  },
  {
   "cell_type": "code",
   "execution_count": 1291,
   "outputs": [],
   "source": [],
   "metadata": {
    "collapsed": false,
    "pycharm": {
     "name": "#%%\n"
    }
   }
  },
  {
   "cell_type": "markdown",
   "metadata": {
    "collapsed": false
   },
   "source": []
  },
  {
   "cell_type": "code",
   "execution_count": 1292,
   "outputs": [
    {
     "name": "stdout",
     "output_type": "stream",
     "text": [
      "1\n",
      "False\n",
      "7\n",
      "True\n",
      "14\n",
      "False\n",
      "16\n",
      "False\n",
      "18\n",
      "False\n"
     ]
    }
   ],
   "source": [
    "for move in moves:\n",
    "    print(move[0])\n",
    "    print(state.is_trump_move(move))"
   ],
   "metadata": {
    "collapsed": false,
    "pycharm": {
     "name": "#%%\n"
    }
   }
  },
  {
   "cell_type": "code",
   "execution_count": 1293,
   "outputs": [
    {
     "name": "stdout",
     "output_type": "stream",
     "text": [
      "[(1, None), (16, None)]\n",
      "0\n"
     ]
    }
   ],
   "source": [
    "from api import Deck\n",
    "\n",
    "def high_value_moves(state, trump=\"all\"):\n",
    "    high_value_moves = []\n",
    "    moves = state.moves()\n",
    "    if trump == \"all\":\n",
    "        for move in moves:\n",
    "            if move[0] is not None and (move[0] % 5 == 0 or move[0] % 5 == 1):\n",
    "                high_value_moves.append(move)\n",
    "        return high_value_moves\n",
    "    elif trump == \"yes\":\n",
    "        for move in moves:\n",
    "            if move[0] is not None and (move[0] % 5 == 0 or move[0] % 5 == 1) and state.is_trump_move(move):\n",
    "                high_value_moves.append(move)\n",
    "        return high_value_moves\n",
    "    elif trump == \"no\":\n",
    "        for move in moves:\n",
    "            if move[0] is not None and (move[0] % 5 == 0 or move[0] % 5 == 1) and not state.is_trump_move(move):\n",
    "                high_value_moves.append(move)\n",
    "        return high_value_moves\n",
    "print(high_value_moves(state, trump=\"all\"))\n",
    "num_moves = len(state.high_value_moves(trump=\"all\"))\n",
    "# print(num_moves)\n",
    "# print(state.whose_turn())\n",
    "print(state.have_marriage())"
   ],
   "metadata": {
    "collapsed": false,
    "pycharm": {
     "name": "#%%\n"
    }
   }
  },
  {
   "cell_type": "code",
   "execution_count": 1294,
   "metadata": {
    "collapsed": false,
    "pycharm": {
     "name": "#%%\n"
    }
   },
   "outputs": [],
   "source": [
    "# def low_value_moves(state, trump=\"all\") -> list:\n",
    "#     low_value_moves = []\n",
    "#     moves = state.moves()\n",
    "#     if trump == \"all\":\n",
    "#         for move in moves:\n",
    "#             if move[0] is not None and (move[0] % 5 != 0 and move[0] % 5 != 1):\n",
    "#                 low_value_moves.append(move)\n",
    "#     elif trump == \"yes\":\n",
    "#         for move in moves:\n",
    "#             if move[0] is not None and (move[0] % 5 != 0 and move[0] % 5 != 1) and state.is_trump_move(move):\n",
    "#                 low_value_moves.append(move)\n",
    "#     elif trump == \"no\":\n",
    "#         for move in moves:\n",
    "#             if move[0] is not None and (move[0] % 5 != 0 and move[0] % 5 != 1) and not state.is_trump_move(move):\n",
    "#                 low_value_moves.append(move)\n",
    "#     #if we return here, we return an empty list, we have to handle that later!\n",
    "#     return low_value_moves.sort(key=lambda x:x[0] % 5, reverse=True)\n",
    "#\n",
    "# print(low_value_moves(state, trump=\"all\"))\n",
    "\n",
    "\n",
    "#print(sort_by_values(low_value_moves(state, trump=\"all\")))"
   ]
  },
  {
   "cell_type": "code",
   "execution_count": 1295,
   "outputs": [
    {
     "name": "stdout",
     "output_type": "stream",
     "text": [
      "[(10, None), (11, None)]\n"
     ]
    }
   ],
   "source": [
    "list1 = [(11, None), (10, None)]\n",
    "new_list = sorted(list1, key=lambda x:x[0] % 5)\n",
    "print(new_list)"
   ],
   "metadata": {
    "collapsed": false,
    "pycharm": {
     "name": "#%%\n"
    }
   }
  },
  {
   "cell_type": "code",
   "execution_count": 1296,
   "outputs": [
    {
     "name": "stdout",
     "output_type": "stream",
     "text": [
      "[(7, None), (14, None), (18, None)]\n"
     ]
    }
   ],
   "source": [
    "print(state.low_value_moves(trump=\"all\"))"
   ],
   "metadata": {
    "collapsed": false,
    "pycharm": {
     "name": "#%%\n"
    }
   }
  },
  {
   "cell_type": "code",
   "execution_count": 1297,
   "outputs": [
    {
     "name": "stdout",
     "output_type": "stream",
     "text": [
      "[(14, None), (18, None), (7, None)]\n"
     ]
    }
   ],
   "source": [
    "def low_value_moves(state, trump=\"all\"):\n",
    "    low_value_moves = []\n",
    "    for move in moves:\n",
    "        if trump == \"all\":\n",
    "            if move[0] is not None and (move[0] % 5 != 0 and move[0] % 5 != 1):\n",
    "                low_value_moves.append(move)\n",
    "        if trump == \"yes\":\n",
    "            if move[0] is not None and (move[0] % 5 != 0 and move[0] % 5 != 1) and state.is_trump_move(move):\n",
    "                low_value_moves.append(move)\n",
    "        if trump == \"no\":\n",
    "            if move[0] is not None and (move[0] % 5 != 0 and move[0] % 5 != 1) and not state.is_trump_move(move):\n",
    "                low_value_moves.append(move)\n",
    "    sorted_list = sorted(low_value_moves, key=lambda x:x[0] % 5, reverse=True)\n",
    "    return sorted_list\n",
    "\n",
    "\n",
    "\n",
    "print(low_value_moves(state, trump=\"all\"))"
   ],
   "metadata": {
    "collapsed": false,
    "pycharm": {
     "name": "#%%\n"
    }
   }
  },
  {
   "cell_type": "code",
   "execution_count": 1298,
   "outputs": [
    {
     "name": "stdout",
     "output_type": "stream",
     "text": [
      "[(1, None), (7, None), (14, None), (16, None), (18, None)]\n"
     ]
    }
   ],
   "source": [
    "print(state.moves())"
   ],
   "metadata": {
    "collapsed": false,
    "pycharm": {
     "name": "#%%\n"
    }
   }
  }
 ],
 "metadata": {
  "kernelspec": {
   "display_name": "Python 3",
   "language": "python",
   "name": "python3"
  },
  "language_info": {
   "codemirror_mode": {
    "name": "ipython",
    "version": 3
   },
   "file_extension": ".py",
   "mimetype": "text/x-python",
   "name": "python",
   "nbconvert_exporter": "python",
   "pygments_lexer": "ipython3",
   "version": "3.9.10"
  }
 },
 "nbformat": 4,
 "nbformat_minor": 0
}
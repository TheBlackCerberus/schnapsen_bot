{
 "cells": [
  {
   "cell_type": "code",
   "execution_count": 832,
   "metadata": {
    "collapsed": true
   },
   "outputs": [
    {
     "name": "stdout",
     "output_type": "stream",
     "text": [
      "The game is in phase: 1\n",
      "Player 1's points: 0, pending: 0\n",
      "Player 2's points: 0, pending: 0\n",
      "The trump suit is: S\n",
      "Player 1's hand: AC 10C KC 10D QH\n",
      "Player 2's hand: QC KD JD KH AS\n",
      "There are 10 cards in the stock\n",
      "\n"
     ]
    }
   ],
   "source": [
    "from api import State, Deck, util\n",
    "\n",
    "\n",
    "state = State.generate(4)\n",
    "deck = Deck.generate()\n",
    "\n",
    "print(state)"
   ]
  },
  {
   "cell_type": "markdown",
   "metadata": {
    "collapsed": false,
    "pycharm": {
     "name": "#%% md\n"
    }
   },
   "source": [
    "|          | Aces | 10s | Kings | Queens | Jacks |\n",
    "|:--------:|:----:|:---:|:-----:|:------:|:-----:|\n",
    "| **Clubs**|   0  |  1  |   2   |    3   |   4   |\n",
    "|**Diamonds**|   5|  6  |   7   |    8   |   9   |\n",
    "|**Hearts**|  10  |  11 |   12  |   13   |   14  |\n",
    "|**Spades**|  15  |  16 |   17  |   18   |   19  |"
   ]
  },
  {
   "cell_type": "code",
   "execution_count": 833,
   "metadata": {
    "collapsed": false,
    "pycharm": {
     "name": "#%%\n"
    }
   },
   "outputs": [
    {
     "name": "stdout",
     "output_type": "stream",
     "text": [
      "{\"deck\": {\"card_state\": [\"P1H\", \"P1H\", \"P1H\", \"P2H\", \"S\", \"S\", \"P1H\", \"P2H\", \"S\", \"P2H\", \"S\", \"S\", \"P2H\", \"P1H\", \"S\", \"P2H\", \"S\", \"S\", \"S\", \"S\"], \"p1_perspective\": [\"P1H\", \"P1H\", \"P1H\", \"U\", \"U\", \"U\", \"P1H\", \"U\", \"U\", \"U\", \"U\", \"U\", \"U\", \"P1H\", \"U\", \"U\", \"U\", \"S\", \"U\", \"U\"], \"p2_perspective\": [\"U\", \"U\", \"U\", \"P2H\", \"U\", \"U\", \"U\", \"P2H\", \"U\", \"P2H\", \"U\", \"U\", \"P2H\", \"U\", \"U\", \"P2H\", \"U\", \"S\", \"U\", \"U\"], \"trick\": [null, null], \"previous_trick\": [null, null], \"stock\": [17, 19, 10, 14, 5, 18, 16, 11, 4, 8], \"trump_suit\": \"S\", \"signature\": null}, \"moves\": [[0, null], [1, null], [2, null], [6, null], [13, null]], \"finished\": false, \"phase\": 1, \"leads_turn\": true, \"player1s_turn\": true, \"p1_points\": 0, \"p2_points\": 0, \"p1_pending_points\": 0, \"p2_pending_points\": 0, \"signature\": null, \"revoked\": null}\n"
     ]
    }
   ],
   "source": [
    "print(state.convert_to_json())"
   ]
  },
  {
   "cell_type": "code",
   "execution_count": 834,
   "metadata": {
    "collapsed": false,
    "pycharm": {
     "name": "#%%\n"
    }
   },
   "outputs": [
    {
     "name": "stdout",
     "output_type": "stream",
     "text": [
      "(0, None)\n",
      "(1, None)\n",
      "(2, None)\n",
      "(6, None)\n",
      "(13, None)\n"
     ]
    }
   ],
   "source": [
    "# return all posible moves\n",
    "\"\"\"\n",
    "\t\t:return: A list of all the legal moves that can be made by the player whose turn it is.\n",
    "\t\t\tA move is a tuple of length 2. There are 3 distinct cases:\n",
    "\t\t\t\t- (int, None): first element indicates the index of the card that is placed down.\n",
    "\t\t\t\t- (int, int) : first element as above, second element completes a marriage\n",
    "\t\t\t\t- (None, int): First element being None indicates a trump jack exchange,\n",
    "\t\t\t\t\tsecond element is the index of that trump jack\n",
    "\t\t\"\"\"\n",
    "moves = state.moves()\n",
    "for move in moves:\n",
    "    print(move)"
   ]
  },
  {
   "cell_type": "code",
   "execution_count": 835,
   "metadata": {
    "collapsed": false,
    "pycharm": {
     "name": "#%%\n"
    }
   },
   "outputs": [
    {
     "name": "stdout",
     "output_type": "stream",
     "text": [
      "1\n"
     ]
    }
   ],
   "source": [
    "print(state.whose_turn())"
   ]
  },
  {
   "cell_type": "code",
   "execution_count": 836,
   "metadata": {
    "collapsed": false,
    "pycharm": {
     "name": "#%%\n"
    }
   },
   "outputs": [
    {
     "name": "stdout",
     "output_type": "stream",
     "text": [
      "[5, 6, 10, 18, 19]\n"
     ]
    }
   ],
   "source": [
    "print(deck.get_player_hand(1))"
   ]
  },
  {
   "cell_type": "code",
   "execution_count": 837,
   "metadata": {
    "collapsed": false,
    "pycharm": {
     "name": "#%%\n"
    }
   },
   "outputs": [
    {
     "name": "stdout",
     "output_type": "stream",
     "text": [
      "[0, 1, 2, 6, 13]\n"
     ]
    }
   ],
   "source": [
    "print(state.hand())"
   ]
  },
  {
   "cell_type": "code",
   "execution_count": 838,
   "metadata": {
    "collapsed": false,
    "pycharm": {
     "name": "#%%\n"
    }
   },
   "outputs": [
    {
     "name": "stdout",
     "output_type": "stream",
     "text": [
      "['S', 'S', 'P2H', 'P2H', 'S', 'P1H', 'P1H', 'S', 'P2H', 'S', 'P1H', 'S', 'S', 'P2H', 'S', 'P2H', 'S', 'S', 'P1H', 'P1H']\n"
     ]
    }
   ],
   "source": [
    "print(deck.get_card_states())"
   ]
  },
  {
   "cell_type": "code",
   "execution_count": 839,
   "metadata": {
    "collapsed": false,
    "pycharm": {
     "name": "#%%\n"
    }
   },
   "outputs": [
    {
     "name": "stdout",
     "output_type": "stream",
     "text": [
      "card1:('K', 'D') card2:('Q', 'D')\n"
     ]
    }
   ],
   "source": [
    "print(f\"card1:{util.get_card_name(7)} card2:{util.get_card_name(8)}\")"
   ]
  },
  {
   "cell_type": "code",
   "execution_count": 840,
   "metadata": {
    "collapsed": false,
    "pycharm": {
     "name": "#%%\n"
    }
   },
   "outputs": [
    {
     "name": "stdout",
     "output_type": "stream",
     "text": [
      "[]\n"
     ]
    }
   ],
   "source": [
    "print(deck.get_possible_mariages(1))"
   ]
  },
  {
   "cell_type": "code",
   "execution_count": 841,
   "metadata": {
    "collapsed": false,
    "pycharm": {
     "name": "#%%\n"
    }
   },
   "outputs": [
    {
     "name": "stdout",
     "output_type": "stream",
     "text": [
      "7\n"
     ]
    }
   ],
   "source": [
    "print(deck.get_trump_card_index())"
   ]
  },
  {
   "cell_type": "code",
   "execution_count": 842,
   "metadata": {
    "collapsed": false,
    "pycharm": {
     "name": "#%%\n"
    }
   },
   "outputs": [
    {
     "name": "stdout",
     "output_type": "stream",
     "text": [
      "1\n"
     ]
    }
   ],
   "source": [
    "print(state.leader())"
   ]
  },
  {
   "cell_type": "code",
   "execution_count": 843,
   "metadata": {
    "collapsed": false,
    "pycharm": {
     "name": "#%%\n"
    }
   },
   "outputs": [
    {
     "name": "stdout",
     "output_type": "stream",
     "text": [
      "S\n"
     ]
    }
   ],
   "source": [
    "print(state.get_trump_suit())"
   ]
  },
  {
   "cell_type": "code",
   "execution_count": 844,
   "metadata": {
    "collapsed": false,
    "pycharm": {
     "name": "#%%\n"
    }
   },
   "outputs": [
    {
     "name": "stdout",
     "output_type": "stream",
     "text": [
      "('K', 'D')\n"
     ]
    }
   ],
   "source": [
    "get_name_of_trump_card = util.get_card_name(deck.get_trump_card_index())\n",
    "print(get_name_of_trump_card)"
   ]
  },
  {
   "cell_type": "code",
   "execution_count": 845,
   "metadata": {
    "collapsed": false,
    "pycharm": {
     "name": "#%%\n"
    }
   },
   "outputs": [
    {
     "name": "stdout",
     "output_type": "stream",
     "text": [
      "Card 0 in the hand is A of C\n",
      "Card 1 in the hand is 10 of C\n",
      "Card 2 in the hand is K of C\n",
      "Card 3 in the hand is 10 of D\n",
      "Card 4 in the hand is Q of H\n"
     ]
    }
   ],
   "source": [
    "cards_hand = state.hand()\n",
    "\n",
    "for i, card in enumerate(cards_hand):\n",
    "\n",
    "    rank, suit = util.get_card_name(card)\n",
    "\n",
    "    print('Card {} in the hand is {} of {}'.format(i, rank,suit))"
   ]
  },
  {
   "cell_type": "code",
   "execution_count": 846,
   "metadata": {
    "collapsed": false,
    "pycharm": {
     "name": "#%%\n"
    }
   },
   "outputs": [
    {
     "name": "stdout",
     "output_type": "stream",
     "text": [
      "None\n"
     ]
    }
   ],
   "source": [
    "print(state.get_opponents_played_card())"
   ]
  },
  {
   "cell_type": "code",
   "execution_count": 847,
   "metadata": {
    "collapsed": false,
    "pycharm": {
     "name": "#%%\n"
    }
   },
   "outputs": [
    {
     "name": "stdout",
     "output_type": "stream",
     "text": [
      "[]\n"
     ]
    }
   ],
   "source": [
    "print(state.get_trump_moves())"
   ]
  },
  {
   "cell_type": "code",
   "execution_count": 847,
   "outputs": [],
   "source": [],
   "metadata": {
    "collapsed": false,
    "pycharm": {
     "name": "#%%\n"
    }
   }
  },
  {
   "cell_type": "markdown",
   "metadata": {
    "collapsed": false
   },
   "source": []
  },
  {
   "cell_type": "code",
   "execution_count": 848,
   "outputs": [
    {
     "name": "stdout",
     "output_type": "stream",
     "text": [
      "0\n",
      "False\n",
      "1\n",
      "False\n",
      "2\n",
      "False\n",
      "6\n",
      "False\n",
      "13\n",
      "False\n"
     ]
    }
   ],
   "source": [
    "for move in moves:\n",
    "    print(move[0])\n",
    "    print(state.is_trump_move(move))"
   ],
   "metadata": {
    "collapsed": false,
    "pycharm": {
     "name": "#%%\n"
    }
   }
  },
  {
   "cell_type": "code",
   "execution_count": 849,
   "outputs": [
    {
     "name": "stdout",
     "output_type": "stream",
     "text": [
      "[(0, None), (1, None), (6, None)]\n"
     ]
    }
   ],
   "source": [
    "def is_trump_move(state, chosen_move) -> bool:\n",
    "    return chosen_move[0] is not None and Deck.get_suit(chosen_move[0]) == state.get_trump_suit()\n",
    "\n",
    "def high_value_moves(state, moves, trump=\"all\"):\n",
    "    high_value_moves = []\n",
    "    if trump == \"all\":\n",
    "        for move in moves:\n",
    "            if move[0] is not None and (move[0] % 5 == 0 or move[0] % 5 == 1):\n",
    "                high_value_moves.append(move)\n",
    "        return high_value_moves\n",
    "    elif trump == \"yes\":\n",
    "        for move in moves:\n",
    "            if move[0] is not None and (move[0] % 5 == 0 or move[0] % 5 == 1) and is_trump_move(state, move):\n",
    "                high_value_moves.append(move)\n",
    "        return high_value_moves\n",
    "    elif trump == \"no\":\n",
    "        for move in moves:\n",
    "            if move[0] is not None and (move[0] % 5 == 0 or move[0] % 5 == 1) and not is_trump_move(state, move):\n",
    "                high_value_moves.append(move)\n",
    "        return high_value_moves\n",
    "\n",
    "print(high_value_moves(state, moves, trump=\"all\"))"
   ],
   "metadata": {
    "collapsed": false,
    "pycharm": {
     "name": "#%%\n"
    }
   }
  },
  {
   "cell_type": "code",
   "execution_count": 850,
   "metadata": {
    "collapsed": false,
    "pycharm": {
     "name": "#%%\n"
    }
   },
   "outputs": [
    {
     "name": "stdout",
     "output_type": "stream",
     "text": [
      "[(2, None), (13, None)]\n"
     ]
    }
   ],
   "source": [
    "def low_value_moves(state, moves, trump=\"all\"):\n",
    "    low_value_moves = []\n",
    "    if trump == \"all\":\n",
    "        for move in moves:\n",
    "            if move[0] is not None and (move[0] % 5 != 0 and move[0] % 5 != 1):\n",
    "                low_value_moves.append(move)\n",
    "        return low_value_moves\n",
    "    elif trump == \"yes\":\n",
    "        for move in moves:\n",
    "            if move[0] is not None and (move[0] % 5 != 0 and move[0] % 5 != 1) and is_trump_move(state, move):\n",
    "                low_value_moves.append(move)\n",
    "        return low_value_moves\n",
    "    elif trump == \"no\":\n",
    "        for move in moves:\n",
    "            if move[0] is not None and (move[0] % 5 != 0 and move[0] % 5 != 1) and not is_trump_move(state, move):\n",
    "                low_value_moves.append(move)\n",
    "        return low_value_moves\n",
    "    #if we return here, we return an empty list, we have to handle that later!\n",
    "    return low_value_moves\n",
    "\n",
    "print(low_value_moves(state, moves, trump=\"all\"))"
   ]
  }
 ],
 "metadata": {
  "kernelspec": {
   "display_name": "Python 3",
   "language": "python",
   "name": "python3"
  },
  "language_info": {
   "codemirror_mode": {
    "name": "ipython",
    "version": 3
   },
   "file_extension": ".py",
   "mimetype": "text/x-python",
   "name": "python",
   "nbconvert_exporter": "python",
   "pygments_lexer": "ipython3",
   "version": "3.9.10"
  }
 },
 "nbformat": 4,
 "nbformat_minor": 0
}